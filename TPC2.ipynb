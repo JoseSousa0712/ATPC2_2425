{
 "cells": [
  {
   "cell_type": "code",
   "execution_count": 1,
   "metadata": {},
   "outputs": [
    {
     "name": "stdout",
     "output_type": "stream",
     "text": [
      "Acertou, necessitou de 6 tentativas!\n"
     ]
    }
   ],
   "source": [
    "### Adivinha o num do PC\n",
    "\n",
    "import random\n",
    "\n",
    "min = 0\n",
    "max = 100\n",
    "resp = random.randint(min, max)\n",
    "\n",
    "palp = int(input(f'O número está entre {min} e {max}. Qual é:\\n'))\n",
    "\n",
    "num_tentativas = 1\n",
    "\n",
    "while palp != resp:\n",
    "    if palp < resp:\n",
    "        palp = int(input('O número que pensei é Maior. Tente novamente'))\n",
    "        num_tentativas += 1\n",
    "    if palp > resp:\n",
    "        palp = int(input('O número que pensei é Menor. Tente novamente'))\n",
    "        num_tentativas += 1\n",
    "print(f'Acertou, necessitou de {num_tentativas} tentativas!')\n"
   ]
  },
  {
   "cell_type": "code",
   "execution_count": null,
   "metadata": {},
   "outputs": [
    {
     "name": "stdout",
     "output_type": "stream",
     "text": [
      "Necessitou de 9 tentativas!\n"
     ]
    }
   ],
   "source": [
    "### PC descobre num\n",
    "\n",
    "import random\n",
    "\n",
    "num_tentativas = 0\n",
    "min = 0\n",
    "max = 100\n",
    "\n",
    "retorna = False\n",
    "\n",
    "pc_adiv = random.randint(min, max)\n",
    "\n",
    "while not retorna:\n",
    "    resp = input(f'Número {pc_adiv}. Correto (=), Grande (+) ou Pequeno (-)?')\n",
    "    if resp == '=':\n",
    "        num_tentativas += 1\n",
    "        print(f'Acertou, necessitou de {num_tentativas} tentativas!')\n",
    "        retorna = True\n",
    "    elif resp == '+':\n",
    "        max = pc_adiv - 1\n",
    "        pc_adiv = random.randint(min, max)\n",
    "        num_tentativas += 1\n",
    "    elif resp == '-':\n",
    "        min = pc_adiv + 1\n",
    "        pc_adiv = random.randint(min, max)\n",
    "        num_tentativas += 1\n",
    "    else:\n",
    "        print('Opção inválida')\n",
    "        resp = input(f'Número {pc_adiv}. Correto (=), Grande (+) ou Pequeno (-)?')\n"
   ]
  }
 ],
 "metadata": {
  "kernelspec": {
   "display_name": "Python 3",
   "language": "python",
   "name": "python3"
  },
  "language_info": {
   "codemirror_mode": {
    "name": "ipython",
    "version": 3
   },
   "file_extension": ".py",
   "mimetype": "text/x-python",
   "name": "python",
   "nbconvert_exporter": "python",
   "pygments_lexer": "ipython3",
   "version": "3.9.13"
  }
 },
 "nbformat": 4,
 "nbformat_minor": 2
}
